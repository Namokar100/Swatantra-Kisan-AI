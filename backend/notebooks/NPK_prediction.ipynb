{
  "nbformat": 4,
  "nbformat_minor": 0,
  "metadata": {
    "colab": {
      "provenance": []
    },
    "kernelspec": {
      "name": "python3",
      "display_name": "Python 3"
    },
    "language_info": {
      "name": "python"
    }
  },
  "cells": [
    {
      "cell_type": "code",
      "source": [
        "!pip install pandas scikit-learn xgboost numpy joblib\n"
      ],
      "metadata": {
        "colab": {
          "base_uri": "https://localhost:8080/"
        },
        "collapsed": true,
        "id": "FTFIzQm7H3Yf",
        "outputId": "fe3e4ac8-5e39-4336-c902-bc6b95dea809"
      },
      "execution_count": 15,
      "outputs": [
        {
          "output_type": "stream",
          "name": "stdout",
          "text": [
            "Requirement already satisfied: pandas in /usr/local/lib/python3.11/dist-packages (2.2.2)\n",
            "Requirement already satisfied: scikit-learn in /usr/local/lib/python3.11/dist-packages (1.6.1)\n",
            "Requirement already satisfied: xgboost in /usr/local/lib/python3.11/dist-packages (2.1.4)\n",
            "Requirement already satisfied: numpy>=1.23.2 in /usr/local/lib/python3.11/dist-packages (from pandas) (2.0.2)\n",
            "Requirement already satisfied: python-dateutil>=2.8.2 in /usr/local/lib/python3.11/dist-packages (from pandas) (2.9.0.post0)\n",
            "Requirement already satisfied: pytz>=2020.1 in /usr/local/lib/python3.11/dist-packages (from pandas) (2025.2)\n",
            "Requirement already satisfied: tzdata>=2022.7 in /usr/local/lib/python3.11/dist-packages (from pandas) (2025.2)\n",
            "Requirement already satisfied: scipy>=1.6.0 in /usr/local/lib/python3.11/dist-packages (from scikit-learn) (1.15.3)\n",
            "Requirement already satisfied: joblib>=1.2.0 in /usr/local/lib/python3.11/dist-packages (from scikit-learn) (1.5.1)\n",
            "Requirement already satisfied: threadpoolctl>=3.1.0 in /usr/local/lib/python3.11/dist-packages (from scikit-learn) (3.6.0)\n",
            "Requirement already satisfied: nvidia-nccl-cu12 in /usr/local/lib/python3.11/dist-packages (from xgboost) (2.21.5)\n",
            "Requirement already satisfied: six>=1.5 in /usr/local/lib/python3.11/dist-packages (from python-dateutil>=2.8.2->pandas) (1.17.0)\n"
          ]
        }
      ]
    },
    {
      "cell_type": "code",
      "source": [
        "import pandas as pd\n",
        "from sklearn.ensemble import RandomForestRegressor\n",
        "from sklearn.multioutput import MultiOutputRegressor\n",
        "from sklearn.model_selection import train_test_split\n",
        "from sklearn.preprocessing import OneHotEncoder\n",
        "from sklearn.compose import ColumnTransformer\n",
        "from sklearn.metrics import mean_absolute_error\n",
        "\n",
        "# Load dataset\n",
        "df = pd.read_csv('crop_dataset.csv')\n",
        "\n",
        "# Features and targets\n",
        "features = ['Temparature', 'Humidity', 'Moisture', 'Soil Type']  # Removed 'Crop Type'\n",
        "target = ['Nitrogen', 'Phosphorous', 'Potassium']\n",
        "\n",
        "# Split into X and y\n",
        "X = df[features]\n",
        "y = df[target]\n",
        "\n",
        "# Define categorical and numeric features\n",
        "categorical_features = ['Soil Type']\n",
        "numeric_features = ['Temparature', 'Humidity', 'Moisture']\n",
        "\n",
        "# One-hot encode categorical features\n",
        "preprocessor = ColumnTransformer(\n",
        "    transformers=[\n",
        "        ('cat', OneHotEncoder(), categorical_features)\n",
        "    ],\n",
        "    remainder='passthrough'  # Keep numeric features as they are\n",
        ")\n",
        "\n",
        "# Transform features\n",
        "X_encoded = preprocessor.fit_transform(X)\n",
        "\n",
        "# Split data\n",
        "X_train, X_test, y_train, y_test = train_test_split(X_encoded, y, test_size=0.2, random_state=42)\n",
        "\n",
        "# Model\n",
        "model = MultiOutputRegressor(RandomForestRegressor(random_state=42))\n",
        "model.fit(X_train, y_train)\n",
        "\n",
        "# Predict\n",
        "y_pred = model.predict(X_test)\n",
        "\n",
        "# Evaluate\n",
        "mae_n = mean_absolute_error(y_test['Nitrogen'], y_pred[:, 0])\n",
        "mae_p = mean_absolute_error(y_test['Phosphorous'], y_pred[:, 1])\n",
        "mae_k = mean_absolute_error(y_test['Potassium'], y_pred[:, 2])\n",
        "\n",
        "print(f\"Nitrogen MAE: {mae_n:.2f}\")\n",
        "print(f\"Phosphorous MAE: {mae_p:.2f}\")\n",
        "print(f\"Potassium MAE: {mae_k:.2f}\")\n"
      ],
      "metadata": {
        "colab": {
          "base_uri": "https://localhost:8080/"
        },
        "id": "ljL_0wEsKld_",
        "outputId": "a9d31426-0127-4e42-e988-8401aae224e4"
      },
      "execution_count": 25,
      "outputs": [
        {
          "output_type": "stream",
          "name": "stdout",
          "text": [
            "Nitrogen MAE: 9.65\n",
            "Phosphorous MAE: 10.21\n",
            "Potassium MAE: 4.53\n"
          ]
        }
      ]
    },
    {
      "cell_type": "code",
      "source": [
        "import joblib\n",
        "\n",
        "# Save model\n",
        "joblib.dump(model, 'npk_predictor_model.pkl')\n",
        "\n",
        "# Save encoder, imputer, and scaler\n",
        "joblib.dump(preprocessor, 'preprocessor.pkl')\n",
        "joblib.dump(model, 'model.pkl')"
      ],
      "metadata": {
        "colab": {
          "base_uri": "https://localhost:8080/"
        },
        "id": "QlkDgftAPD2R",
        "outputId": "8a65ff02-30fc-45a5-c34a-8428e26482db"
      },
      "execution_count": 31,
      "outputs": [
        {
          "output_type": "execute_result",
          "data": {
            "text/plain": [
              "['model.pkl']"
            ]
          },
          "metadata": {},
          "execution_count": 31
        }
      ]
    },
    {
      "cell_type": "code",
      "source": [
        "def predict_npk(temperature, humidity, moisture, soil_type):\n",
        "    # Input must match the format used during training\n",
        "    input_df = pd.DataFrame([{\n",
        "        'Temparature': temperature,\n",
        "        'Humidity': humidity,\n",
        "        'Moisture': moisture,\n",
        "        'Soil Type': soil_type\n",
        "    }])\n",
        "\n",
        "    # Apply same preprocessing (OneHotEncoder + passthrough numeric)\n",
        "    input_encoded = preprocessor.transform(input_df)\n",
        "\n",
        "    # Predict\n",
        "    prediction = model.predict(input_encoded)\n",
        "    n, p, k = prediction[0]\n",
        "\n",
        "    print(f\"Predicted NPK for:\")\n",
        "    print(f\"  Soil Type: {soil_type}\")\n",
        "    print(f\"  Nitrogen: {round(n)}\")\n",
        "    print(f\"  Phosphorous: {round(p)}\")\n",
        "    print(f\"  Potassium: {round(k)}\")\n",
        "\n",
        "predict_npk(30, 45, 42, \"Black\")\n"
      ],
      "metadata": {
        "colab": {
          "base_uri": "https://localhost:8080/"
        },
        "id": "owWmgbGqI7hg",
        "outputId": "ca7f5601-7581-4ff2-f2be-831007468c3e"
      },
      "execution_count": 27,
      "outputs": [
        {
          "output_type": "stream",
          "name": "stdout",
          "text": [
            "Predicted NPK for:\n",
            "  Soil Type: Black\n",
            "  Nitrogen: 18\n",
            "  Phosphorous: 16\n",
            "  Potassium: 6\n"
          ]
        }
      ]
    }
  ]
}